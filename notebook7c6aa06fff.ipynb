{
 "cells": [
  {
   "cell_type": "code",
   "execution_count": 1,
   "id": "6888e147",
   "metadata": {
    "_cell_guid": "b1076dfc-b9ad-4769-8c92-a6c4dae69d19",
    "_uuid": "8f2839f25d086af736a60e9eeb907d3b93b6e0e5",
    "execution": {
     "iopub.execute_input": "2025-09-12T18:37:22.321098Z",
     "iopub.status.busy": "2025-09-12T18:37:22.320842Z",
     "iopub.status.idle": "2025-09-12T18:37:26.815652Z",
     "shell.execute_reply": "2025-09-12T18:37:26.814762Z"
    },
    "papermill": {
     "duration": 4.500768,
     "end_time": "2025-09-12T18:37:26.817029",
     "exception": false,
     "start_time": "2025-09-12T18:37:22.316261",
     "status": "completed"
    },
    "tags": []
   },
   "outputs": [
    {
     "name": "stdout",
     "output_type": "stream",
     "text": [
      "xgboost: 2.0.3\n",
      "Fri Sep 12 18:37:26 2025       \n",
      "+-----------------------------------------------------------------------------------------+\n",
      "| NVIDIA-SMI 560.35.03              Driver Version: 560.35.03      CUDA Version: 12.6     |\n",
      "|-----------------------------------------+------------------------+----------------------+\n",
      "| GPU  Name                 Persistence-M | Bus-Id          Disp.A | Volatile Uncorr. ECC |\n",
      "| Fan  Temp   Perf          Pwr:Usage/Cap |           Memory-Usage | GPU-Util  Compute M. |\n",
      "|                                         |                        |               MIG M. |\n",
      "|=========================================+========================+======================|\n",
      "|   0  Tesla T4                       Off |   00000000:00:04.0 Off |                    0 |\n",
      "| N/A   36C    P8              9W /   70W |       1MiB /  15360MiB |      0%      Default |\n",
      "|                                         |                        |                  N/A |\n",
      "+-----------------------------------------+------------------------+----------------------+\n",
      "|   1  Tesla T4                       Off |   00000000:00:05.0 Off |                    0 |\n",
      "| N/A   39C    P8             10W /   70W |       1MiB /  15360MiB |      0%      Default |\n",
      "|                                         |                        |                  N/A |\n",
      "+-----------------------------------------+------------------------+----------------------+\n",
      "                                                                                         \n",
      "+-----------------------------------------------------------------------------------------+\n",
      "| Processes:                                                                              |\n",
      "|  GPU   GI   CI        PID   Type   Process name                              GPU Memory |\n",
      "|        ID   ID                                                               Usage      |\n",
      "|=========================================================================================|\n",
      "|  No running processes found                                                             |\n",
      "+-----------------------------------------------------------------------------------------+\n",
      "\n"
     ]
    }
   ],
   "source": [
    "#Chequeo version XGBOost\n",
    "\n",
    "import xgboost as xgb, subprocess, sys\n",
    "print(\"xgboost:\", xgb.__version__)\n",
    "try:\n",
    "    print(subprocess.check_output([\"nvidia-smi\"]).decode())\n",
    "except Exception as e:\n",
    "    print(\"nvidia-smi no disponible:\", e, file=sys.stderr)\n"
   ]
  },
  {
   "cell_type": "code",
   "execution_count": 2,
   "id": "01b57958",
   "metadata": {
    "execution": {
     "iopub.execute_input": "2025-09-12T18:37:26.824129Z",
     "iopub.status.busy": "2025-09-12T18:37:26.823801Z",
     "iopub.status.idle": "2025-09-12T18:37:26.827859Z",
     "shell.execute_reply": "2025-09-12T18:37:26.827321Z"
    },
    "papermill": {
     "duration": 0.008665,
     "end_time": "2025-09-12T18:37:26.829008",
     "exception": false,
     "start_time": "2025-09-12T18:37:26.820343",
     "status": "completed"
    },
    "tags": []
   },
   "outputs": [],
   "source": [
    "import pandas as pd # Para cargar los datos y hacer OHE.\n",
    "import numpy as np  # Para lidiar con NaNs.\n",
    "import time\n",
    "import sklearn\n",
    "from sklearn.model_selection import train_test_split\n",
    "from sklearn.metrics import balanced_accuracy_score, roc_auc_score, make_scorer\n",
    "from sklearn.model_selection import ParameterSampler\n",
    "from sklearn.metrics import confusion_matrix\n",
    "\n",
    "\n",
    "\n",
    "random_state = 42\n",
    "np.random.seed(random_state)"
   ]
  },
  {
   "cell_type": "code",
   "execution_count": 3,
   "id": "0f65ee09",
   "metadata": {
    "execution": {
     "iopub.execute_input": "2025-09-12T18:37:26.835246Z",
     "iopub.status.busy": "2025-09-12T18:37:26.835047Z",
     "iopub.status.idle": "2025-09-12T18:37:35.574326Z",
     "shell.execute_reply": "2025-09-12T18:37:35.573483Z"
    },
    "papermill": {
     "duration": 8.743822,
     "end_time": "2025-09-12T18:37:35.575660",
     "exception": false,
     "start_time": "2025-09-12T18:37:26.831838",
     "status": "completed"
    },
    "tags": []
   },
   "outputs": [
    {
     "name": "stdout",
     "output_type": "stream",
     "text": [
      "(911344, 22)\n",
      "(51570, 21)\n"
     ]
    }
   ],
   "source": [
    "train_data = pd.read_csv(\"/kaggle/input/datasetspotify/train_data.txt\", sep=\"\\t\", low_memory=False, on_bad_lines='skip')\n",
    "test_data = pd.read_csv(\"/kaggle/input/datasetspotify/test_data.txt\", sep=\"\\t\", low_memory=False, on_bad_lines='skip')\n",
    "print(train_data.shape)\n",
    "print(test_data.shape)"
   ]
  },
  {
   "cell_type": "code",
   "execution_count": 4,
   "id": "e8726f3e",
   "metadata": {
    "execution": {
     "iopub.execute_input": "2025-09-12T18:37:35.582600Z",
     "iopub.status.busy": "2025-09-12T18:37:35.582346Z",
     "iopub.status.idle": "2025-09-12T18:37:35.995745Z",
     "shell.execute_reply": "2025-09-12T18:37:35.995125Z"
    },
    "papermill": {
     "duration": 0.418331,
     "end_time": "2025-09-12T18:37:35.997166",
     "exception": false,
     "start_time": "2025-09-12T18:37:35.578835",
     "status": "completed"
    },
    "tags": []
   },
   "outputs": [],
   "source": [
    "# - Convertimos las columnas de fechas a tipo datetime (con zona horaria).\n",
    "# - Crea nuevas columnas a partir de la fecha/hora:\n",
    "#    * hour → hora del día (0–23)\n",
    "#    * dayofweek → día de la semana (0=lunes … 6=domingo)\n",
    "#    * is_weekend → marca si es sábado o domingo\n",
    "#    * gap_offline_minutes → minutos entre ts y offline_timestamp (o -1 si no hay)\n",
    "#    * had_offline → marca si existió un offline_timestamp\n",
    "#\n",
    "# - Estos datos reflejan cómo usan la app según hora o día.\n",
    "# - Capturan patrones de comportamiento que ayudan al modelo a separar\n",
    "\n",
    "\n",
    "# Asegurate que ts y offline_timestamp sean datetime con tz\n",
    "train_data[\"ts\"] = pd.to_datetime(train_data[\"ts\"], utc=True, errors=\"coerce\")\n",
    "test_data[\"ts\"]  = pd.to_datetime(test_data[\"ts\"],  utc=True, errors=\"coerce\")\n",
    "train_data[\"offline_timestamp\"] = pd.to_datetime(train_data[\"offline_timestamp\"], utc=True, errors=\"coerce\")\n",
    "test_data[\"offline_timestamp\"]  = pd.to_datetime(test_data[\"offline_timestamp\"],  utc=True, errors=\"coerce\")\n",
    "\n",
    "# Derivadas de ts (baratas y rinden)\n",
    "def add_time_feats(df):\n",
    "    df[\"hour\"] = df[\"ts\"].dt.hour.astype(\"int16\")\n",
    "    df[\"dayofweek\"] = df[\"ts\"].dt.dayofweek.astype(\"int8\")\n",
    "    df[\"is_weekend\"] = df[\"dayofweek\"].isin([5,6]).astype(\"int8\")\n",
    "    return df\n",
    "\n",
    "train_data = add_time_feats(train_data)\n",
    "test_data  = add_time_feats(test_data)\n",
    "\n",
    "# Gap con offline_timestamp (si hay)\n",
    "def add_offline_gap(df):\n",
    "    gap = (df[\"ts\"] - df[\"offline_timestamp\"]).dt.total_seconds() / 60.0\n",
    "    df[\"gap_offline_minutes\"] = gap.fillna(-1).astype(\"float32\")  # -1 = no offline\n",
    "    df[\"had_offline\"] = df[\"offline_timestamp\"].notna().astype(\"int8\")\n",
    "    return df\n",
    "\n",
    "train_data = add_offline_gap(train_data)\n",
    "test_data  = add_offline_gap(test_data)\n"
   ]
  },
  {
   "cell_type": "code",
   "execution_count": 5,
   "id": "7a3f826f",
   "metadata": {
    "execution": {
     "iopub.execute_input": "2025-09-12T18:37:36.003991Z",
     "iopub.status.busy": "2025-09-12T18:37:36.003790Z",
     "iopub.status.idle": "2025-09-12T18:37:36.307528Z",
     "shell.execute_reply": "2025-09-12T18:37:36.306949Z"
    },
    "papermill": {
     "duration": 0.308518,
     "end_time": "2025-09-12T18:37:36.308877",
     "exception": false,
     "start_time": "2025-09-12T18:37:36.000359",
     "status": "completed"
    },
    "tags": []
   },
   "outputs": [],
   "source": [
    "\n",
    "# Normalizamos columna \"platform\"\n",
    "# --------------------------------\n",
    "# - Reduce los textos largos y variados de \"platform\" a grupos simples:\n",
    "#  porque existen diferentes versiones de android, ios, windows, mac, linux, web, unknown.\n",
    "# - Ejemplo: \"Windows 7, 10, 13, etc (cualquier windows) → \"windows\"\n",
    "#\n",
    "# - Evita que el modelo cree miles de categorías distintas para lo mismo.\n",
    "# - Mantiene solo la info importante: el tipo de dispositivo/sistema usado.\n",
    "# - Mejora memoria y hace que el modelo aprenda más rápido y con menos ruido.\n",
    "\n",
    "import re\n",
    "\n",
    "def simplify_platform(s):\n",
    "    if not isinstance(s, str): return \"unknown\"\n",
    "    low = s.lower()\n",
    "    if \"android\" in low: return \"android\"\n",
    "    if \"ios\" in low or \"iphone\" in low or \"ipad\" in low: return \"ios\"\n",
    "    if \"windows\" in low: return \"windows\"\n",
    "    if \"mac\" in low or \"os x\" in low or \"macos\" in low: return \"mac\"\n",
    "    if \"linux\" in low or \"ubuntu\" in low: return \"linux\"\n",
    "    if \"web\" in low or \"browser\" in low: return \"web\"\n",
    "    return re.sub(r\"\\s+\", \"_\", low[:20])\n",
    "\n",
    "train_data[\"platform_simpl\"] = train_data[\"platform\"].map(simplify_platform)\n",
    "test_data[\"platform_simpl\"]  = test_data[\"platform\"].map(simplify_platform)\n"
   ]
  },
  {
   "cell_type": "code",
   "execution_count": 6,
   "id": "87f6d0c1",
   "metadata": {
    "execution": {
     "iopub.execute_input": "2025-09-12T18:37:36.315898Z",
     "iopub.status.busy": "2025-09-12T18:37:36.315452Z",
     "iopub.status.idle": "2025-09-12T18:37:36.375689Z",
     "shell.execute_reply": "2025-09-12T18:37:36.375174Z"
    },
    "papermill": {
     "duration": 0.064745,
     "end_time": "2025-09-12T18:37:36.376754",
     "exception": false,
     "start_time": "2025-09-12T18:37:36.312009",
     "status": "completed"
    },
    "tags": []
   },
   "outputs": [],
   "source": [
    "# Creo la variable objetivo\n",
    "#--------------------------------\n",
    "# - Definimos la columna \"y\" como target:\n",
    "#     * y = 1 si reason_end == \"fwdbtn\"  (el usuario saltó la canción)\n",
    "#     * y = 0 en los demás casos\n",
    "# - Convierte a int8 para ahorrar memoria.\n",
    "#\n",
    "# - Necesitamos una variable binaria (0/1) para entrenar\n",
    "#   el modelo de clasificación con XGBoost.\n",
    "\n",
    "# y = (reason_end == 'fwdbtn')\n",
    "train_data[\"y\"] = (train_data[\"reason_end\"] == \"fwdbtn\").astype(\"int8\")\n"
   ]
  },
  {
   "cell_type": "code",
   "execution_count": 7,
   "id": "c279efdf",
   "metadata": {
    "execution": {
     "iopub.execute_input": "2025-09-12T18:37:36.383329Z",
     "iopub.status.busy": "2025-09-12T18:37:36.382921Z",
     "iopub.status.idle": "2025-09-12T18:37:37.136230Z",
     "shell.execute_reply": "2025-09-12T18:37:37.135630Z"
    },
    "papermill": {
     "duration": 0.758127,
     "end_time": "2025-09-12T18:37:37.137774",
     "exception": false,
     "start_time": "2025-09-12T18:37:36.379647",
     "status": "completed"
    },
    "tags": []
   },
   "outputs": [],
   "source": [
    "# Frequency Encoding para columnas grandes\n",
    "# --------------------------------\n",
    "# - Reemplazamos valores categóricos muy numerosos (ej: username, ip_addr, track_name)\n",
    "#   por la cantidad de veces que aparecen en el dataset (su frecuencia).\n",
    "# - Genera nuevas columnas: fe_username, fe_ip_addr, etc.\n",
    "#\n",
    "# Ejemplo:\n",
    "#   si un username aparece 500 veces → fe_username = 500\n",
    "#   si un track aparece solo 3 veces → fe_track_name = 3\n",
    "\n",
    "def freq_encode(train_col, test_col):\n",
    "    vc = train_col.value_counts()\n",
    "    mapper = vc.astype(\"int64\")\n",
    "    return train_col.map(mapper).fillna(0).astype(\"int32\"), test_col.map(mapper).fillna(0).astype(\"int32\")\n",
    "\n",
    "# Elegí columnas grandes\n",
    "big_cols = [\n",
    "    \"username\", \"ip_addr\",\n",
    "    \"master_metadata_track_name\",\n",
    "    \"master_metadata_album_artist_name\",\n",
    "    \"master_metadata_album_album_name\",\n",
    "    \"spotify_track_uri\"\n",
    "]\n",
    "\n",
    "for col in big_cols:\n",
    "    tr_fe, te_fe = freq_encode(train_data[col].astype(\"object\"), test_data[col].astype(\"object\"))\n",
    "    train_data[f\"fe_{col}\"] = tr_fe\n",
    "    test_data[f\"fe_{col}\"]  = te_fe\n"
   ]
  },
  {
   "cell_type": "code",
   "execution_count": 8,
   "id": "472b8d98",
   "metadata": {
    "execution": {
     "iopub.execute_input": "2025-09-12T18:37:37.145431Z",
     "iopub.status.busy": "2025-09-12T18:37:37.144923Z",
     "iopub.status.idle": "2025-09-12T18:37:37.464790Z",
     "shell.execute_reply": "2025-09-12T18:37:37.464174Z"
    },
    "papermill": {
     "duration": 0.324937,
     "end_time": "2025-09-12T18:37:37.466138",
     "exception": false,
     "start_time": "2025-09-12T18:37:37.141201",
     "status": "completed"
    },
    "tags": []
   },
   "outputs": [],
   "source": [
    "\n",
    "#One-Hot Encoding (OHE) para platform y conn_country\n",
    "# --------------------------------\n",
    "# - Tomamos solo los valores más frecuentes para reducir cardinalidad:\n",
    "#     * platform_simpl → top 10\n",
    "#     * conn_country   → top 40\n",
    "# - Los valores fuera del top se agrupan en \"other\".\n",
    "# - Convierte cada categoría en una columna binaria con get_dummies.\n",
    "# - Alinea las columnas entre train y test (rellena faltantes con 0).\n",
    "#\n",
    "# Ejemplo:\n",
    "#   platform_simpl = \"windows\" → platform_simpl_windows = 1\n",
    "#   platform_simpl = \"other\"   → todas las demás columnas = 0, salvo \"other\" = 1\n",
    "\n",
    "\n",
    "def cap_to_topN(train_series, test_series, topN=30):\n",
    "    top = train_series.value_counts().nlargest(topN).index\n",
    "    tr = train_series.where(train_series.isin(top), \"other\")\n",
    "    te = test_series.where(test_series.isin(top), \"other\")\n",
    "    return tr, te\n",
    "\n",
    "train_plat, test_plat = cap_to_topN(train_data[\"platform_simpl\"], test_data[\"platform_simpl\"], topN=10)\n",
    "train_ctry, test_ctry = cap_to_topN(train_data[\"conn_country\"],  test_data[\"conn_country\"],  topN=40)\n",
    "\n",
    "ohe_cols = pd.get_dummies(\n",
    "    pd.DataFrame({\n",
    "        \"platform_simpl\": train_plat,\n",
    "        \"conn_country\": train_ctry\n",
    "    }),\n",
    "    dummy_na=False\n",
    ").astype(\"int8\")\n",
    "\n",
    "ohe_cols_test = pd.get_dummies(\n",
    "    pd.DataFrame({\n",
    "        \"platform_simpl\": test_plat,\n",
    "        \"conn_country\": test_ctry\n",
    "    }),\n",
    "    dummy_na=False\n",
    ").astype(\"int8\")\n",
    "\n",
    "# Alinear columnas\n",
    "ohe_cols_test = ohe_cols_test.reindex(columns=ohe_cols.columns, fill_value=0).astype(\"int8\")\n"
   ]
  },
  {
   "cell_type": "code",
   "execution_count": 9,
   "id": "46638969",
   "metadata": {
    "execution": {
     "iopub.execute_input": "2025-09-12T18:37:37.473596Z",
     "iopub.status.busy": "2025-09-12T18:37:37.473322Z",
     "iopub.status.idle": "2025-09-12T18:37:38.495978Z",
     "shell.execute_reply": "2025-09-12T18:37:38.495355Z"
    },
    "papermill": {
     "duration": 1.028024,
     "end_time": "2025-09-12T18:37:38.497330",
     "exception": false,
     "start_time": "2025-09-12T18:37:37.469306",
     "status": "completed"
    },
    "tags": []
   },
   "outputs": [],
   "source": [
    "# Crear user_order y chequear columnas requeridas\n",
    "# --------------------------------\n",
    "# - user_order: orden secuencial por usuario (1,2,3,...) según ts\n",
    "\n",
    "# 1) user_order por usuario (en train y test)\n",
    "for df in (train_data, test_data):\n",
    "    # aseguramos datetime\n",
    "    df[\"ts\"] = pd.to_datetime(df[\"ts\"], utc=True, errors=\"coerce\")\n",
    "    # orden por usuario y tiempo\n",
    "    df.sort_values([\"username\", \"ts\"], inplace=True)\n",
    "    df[\"user_order\"] = df.groupby(\"username\", observed=True).cumcount() + 1\n",
    "    # volvemos a ordenar por obs_id para no alterar tu flujo\n",
    "    df.sort_values(\"obs_id\", inplace=True)\n",
    "\n",
    "# 2) chequear que existan todas las columnas que vamos a usar\n",
    "base_numeric = [\n",
    "    \"hour\",\"dayofweek\",\"is_weekend\",\n",
    "    \"gap_offline_minutes\",\"had_offline\",\n",
    "    \"shuffle\",\"offline\",\"incognito_mode\",\"user_order\"\n",
    "]\n",
    "\n",
    "freq_cols = [f\"fe_{c}\" for c in big_cols]\n",
    "\n",
    "def ensure_cols(df, cols, fill_value=0):\n",
    "    missing = [c for c in cols if c not in df.columns]\n",
    "    if missing:\n",
    "        # creamos las faltantes con fill_value\n",
    "        for c in missing:\n",
    "            df[c] = fill_value\n",
    "        print(\"columnas creadas por faltar en df:\", missing)\n",
    "\n",
    "# aseguramos que estén todas en train y test\n",
    "ensure_cols(train_data, base_numeric + freq_cols, fill_value=0)\n",
    "ensure_cols(test_data,  base_numeric + freq_cols, fill_value=0)\n",
    "\n",
    "# (opcional) tipado liviano\n",
    "for df in (train_data, test_data):\n",
    "    for c in [\"hour\",\"dayofweek\",\"is_weekend\",\"had_offline\",\"shuffle\",\"offline\",\"incognito_mode\",\"user_order\"]:\n",
    "        if c in df:\n",
    "            if c in [\"hour\"]: df[c] = df[c].astype(\"int16\")\n",
    "            elif c in [\"dayofweek\",\"is_weekend\",\"had_offline\",\"shuffle\",\"offline\",\"incognito_mode\"]: df[c] = df[c].astype(\"int8\")\n",
    "            elif c == \"user_order\": df[c] = df[c].astype(\"int32\")\n",
    "    for c in freq_cols:\n",
    "        if c in df:\n",
    "            df[c] = df[c].astype(\"int32\")\n"
   ]
  },
  {
   "cell_type": "code",
   "execution_count": 10,
   "id": "603c4f76",
   "metadata": {
    "execution": {
     "iopub.execute_input": "2025-09-12T18:37:38.504066Z",
     "iopub.status.busy": "2025-09-12T18:37:38.503837Z",
     "iopub.status.idle": "2025-09-12T18:37:38.693817Z",
     "shell.execute_reply": "2025-09-12T18:37:38.692854Z"
    },
    "papermill": {
     "duration": 0.194677,
     "end_time": "2025-09-12T18:37:38.695164",
     "exception": false,
     "start_time": "2025-09-12T18:37:38.500487",
     "status": "completed"
    },
    "tags": []
   },
   "outputs": [
    {
     "name": "stdout",
     "output_type": "stream",
     "text": [
      "X_train_full: (911344, 67)\n",
      "X_test_full: (51570, 67)\n"
     ]
    }
   ],
   "source": [
    "#Construimos matriz final de features\n",
    "# --------------------------------\n",
    "# Combina:\n",
    "# - Variables numéricas derivadas (base_numeric)\n",
    "# - Columnas con Frequency Encoding (freq_cols)\n",
    "# - Columnas One-Hot (ohe_cols)\n",
    "\n",
    "base_numeric = [\n",
    "    \"hour\",\"dayofweek\",\"is_weekend\",\n",
    "    \"gap_offline_minutes\",\"had_offline\",\n",
    "    \"shuffle\",\"offline\",\"incognito_mode\",\"user_order\"\n",
    "]\n",
    "\n",
    "freq_cols = [f\"fe_{c}\" for c in big_cols]\n",
    "\n",
    "# Entrenamiento\n",
    "X_train_full = pd.concat(\n",
    "    [\n",
    "        train_data[base_numeric + freq_cols].astype(\"float32\").reset_index(drop=True),\n",
    "        ohe_cols.reset_index(drop=True)\n",
    "    ],\n",
    "    axis=1\n",
    ")\n",
    "\n",
    "# Test → reindexar columnas para que coincidan con train\n",
    "X_test_full = pd.concat(\n",
    "    [\n",
    "        test_data[base_numeric + freq_cols].astype(\"float32\").reset_index(drop=True),\n",
    "        ohe_cols_test.reset_index(drop=True)\n",
    "    ],\n",
    "    axis=1\n",
    ").reindex(columns=X_train_full.columns, fill_value=0)\n",
    "\n",
    "# Target\n",
    "y = train_data[\"y\"].astype(\"int8\").to_numpy()\n",
    "feature_names = X_train_full.columns\n",
    "\n",
    "print(\"X_train_full:\", X_train_full.shape)\n",
    "print(\"X_test_full:\", X_test_full.shape)\n"
   ]
  },
  {
   "cell_type": "code",
   "execution_count": 11,
   "id": "42022d28",
   "metadata": {
    "execution": {
     "iopub.execute_input": "2025-09-12T18:37:38.703012Z",
     "iopub.status.busy": "2025-09-12T18:37:38.702468Z",
     "iopub.status.idle": "2025-09-12T18:37:38.857168Z",
     "shell.execute_reply": "2025-09-12T18:37:38.856423Z"
    },
    "papermill": {
     "duration": 0.160027,
     "end_time": "2025-09-12T18:37:38.858304",
     "exception": false,
     "start_time": "2025-09-12T18:37:38.698277",
     "status": "completed"
    },
    "tags": []
   },
   "outputs": [
    {
     "name": "stdout",
     "output_type": "stream",
     "text": [
      "Train: (729074, 67) Val: (182270, 67)\n"
     ]
    }
   ],
   "source": [
    "# Split temporal (validación realista)\n",
    "# --------------------------------\n",
    "# - Cortamos el train por tiempo: último 20% para validación.\n",
    "# - Evita leakage\n",
    "\n",
    "# Ordenar por ts y cortar por cuantiles\n",
    "cut = train_data[\"ts\"].quantile(0.80)\n",
    "tr_idx = train_data[\"ts\"] < cut\n",
    "va_idx = train_data[\"ts\"] >= cut\n",
    "\n",
    "X_tr = X_train_full.loc[tr_idx].reset_index(drop=True)\n",
    "y_tr = y[tr_idx.values]\n",
    "X_va = X_train_full.loc[va_idx].reset_index(drop=True)\n",
    "y_va = y[va_idx.values]\n",
    "\n",
    "print(\"Train:\", X_tr.shape, \"Val:\", X_va.shape)\n"
   ]
  },
  {
   "cell_type": "code",
   "execution_count": 12,
   "id": "abe82700",
   "metadata": {
    "execution": {
     "iopub.execute_input": "2025-09-12T18:37:38.865198Z",
     "iopub.status.busy": "2025-09-12T18:37:38.864817Z",
     "iopub.status.idle": "2025-09-12T18:37:38.870141Z",
     "shell.execute_reply": "2025-09-12T18:37:38.869433Z"
    },
    "papermill": {
     "duration": 0.009812,
     "end_time": "2025-09-12T18:37:38.871164",
     "exception": false,
     "start_time": "2025-09-12T18:37:38.861352",
     "status": "completed"
    },
    "tags": []
   },
   "outputs": [
    {
     "name": "stdout",
     "output_type": "stream",
     "text": [
      "En el train hay 149180 positivos (skip) y 579894 negativos (no skip).\n",
      "Eso significa que hay 3.89 veces más no-skip que skip.\n",
      "scale_pos_weight se ajusta a: 3.89\n"
     ]
    }
   ],
   "source": [
    "\n",
    "#Manejo de desbalance (scale_pos_weight)\n",
    "# --------------------------------\n",
    "# - Calculamos neg/pos para ajustar el peso de la clase positiva.\n",
    "# - Ayuda a mejorar ROC-AUC cuando y=1 es minoritaria.\n",
    "\n",
    "pos = y_tr.sum()\n",
    "neg = y_tr.shape[0] - pos\n",
    "scale_pos_weight = max(1.0, neg / max(1, pos))\n",
    "\n",
    "print(f\"En el train hay {pos} positivos (skip) y {neg} negativos (no skip).\")\n",
    "print(f\"Eso significa que hay {neg/pos:.2f} veces más no-skip que skip.\")\n",
    "print(f\"scale_pos_weight se ajusta a: {scale_pos_weight:.2f}\")\n"
   ]
  },
  {
   "cell_type": "code",
   "execution_count": 13,
   "id": "0abe546d",
   "metadata": {
    "execution": {
     "iopub.execute_input": "2025-09-12T18:37:38.877952Z",
     "iopub.status.busy": "2025-09-12T18:37:38.877401Z",
     "iopub.status.idle": "2025-09-12T18:37:48.477173Z",
     "shell.execute_reply": "2025-09-12T18:37:48.476298Z"
    },
    "papermill": {
     "duration": 9.604637,
     "end_time": "2025-09-12T18:37:48.478632",
     "exception": false,
     "start_time": "2025-09-12T18:37:38.873995",
     "status": "completed"
    },
    "tags": []
   },
   "outputs": [
    {
     "name": "stderr",
     "output_type": "stream",
     "text": [
      "/usr/local/lib/python3.11/dist-packages/xgboost/sklearn.py:889: UserWarning: `early_stopping_rounds` in `fit` method is deprecated for better compatibility with scikit-learn, use `early_stopping_rounds` in constructor or`set_params` instead.\n",
      "  warnings.warn(\n",
      "/usr/local/lib/python3.11/dist-packages/xgboost/core.py:160: UserWarning: [18:37:48] WARNING: /workspace/src/common/error_msg.cc:58: Falling back to prediction using DMatrix due to mismatched devices. This might lead to higher memory usage and slower performance. XGBoost is running on: cuda:0, while the input data is on: cpu.\n",
      "Potential solutions:\n",
      "- Use a data structure that matches the device ordinal in the booster.\n",
      "- Set the device for booster before call to inplace_predict.\n",
      "\n",
      "This warning will only be shown once.\n",
      "\n",
      "  warnings.warn(smsg, UserWarning)\n"
     ]
    },
    {
     "name": "stdout",
     "output_type": "stream",
     "text": [
      "AUC-ROC (validación temporal): 0.79914\n",
      "Mejor iteración (early stopping): 163\n",
      "Mejor AUC registrado por XGB: 0.79914\n"
     ]
    }
   ],
   "source": [
    "#XGBoost con GPU + early stopping\n",
    "# --------------------------------\n",
    "# - Definimos hiperparámetros base (incluye scale_pos_weight por desbalance).\n",
    "# - Forzamos uso de GPU (device='cuda' o gpu_hist según versión).\n",
    "# - Entrenamos con early_stopping (corta cuando no mejora AUC).\n",
    "# - Reporta AUC-ROC en validación temporal.\n",
    "\n",
    "import xgboost as xgb\n",
    "from sklearn.metrics import roc_auc_score\n",
    "\n",
    "base_params = dict(\n",
    "    objective=\"binary:logistic\",\n",
    "    eval_metric=\"auc\",\n",
    "    random_state=42,\n",
    "    learning_rate=0.05,\n",
    "    max_depth=10,\n",
    "    min_child_weight=2.0,\n",
    "    subsample=0.8,\n",
    "    colsample_bytree=0.8,\n",
    "    reg_lambda=2.0,\n",
    "    n_estimators=3000,              # grande + early stopping\n",
    "    scale_pos_weight=scale_pos_weight\n",
    ")\n",
    "\n",
    "# Forzar GPU según versión\n",
    "try:\n",
    "    clf_xgb = xgb.XGBClassifier(device=\"cuda\", **base_params)  # XGBoost >= 2.0\n",
    "except TypeError:\n",
    "    clf_xgb = xgb.XGBClassifier(                               # XGBoost < 2.0\n",
    "        tree_method=\"gpu_hist\",\n",
    "        predictor=\"gpu_predictor\",\n",
    "        gpu_id=0,\n",
    "        **base_params\n",
    "    )\n",
    "\n",
    "clf_xgb.fit(\n",
    "    X_tr, y_tr,\n",
    "    eval_set=[(X_va, y_va)],\n",
    "    verbose=False,\n",
    "    early_stopping_rounds=100\n",
    ")\n",
    "\n",
    "# Métricas y mejor iteración\n",
    "best_iter = getattr(clf_xgb, \"best_iteration\", None)\n",
    "best_score = getattr(clf_xgb, \"best_score\", None)\n",
    "\n",
    "pred_va = clf_xgb.predict_proba(X_va)[:, 1]\n",
    "auc_va = roc_auc_score(y_va, pred_va)\n",
    "\n",
    "print(f\"AUC-ROC (validación temporal): {auc_va:.5f}\")\n",
    "if best_iter is not None:\n",
    "    print(f\"Mejor iteración (early stopping): {best_iter}\")\n",
    "if best_score is not None:\n",
    "    print(f\"Mejor AUC registrado por XGB: {best_score:.5f}\")\n",
    "\n",
    "\n",
    "\n"
   ]
  },
  {
   "cell_type": "code",
   "execution_count": 14,
   "id": "e53028bb",
   "metadata": {
    "execution": {
     "iopub.execute_input": "2025-09-12T18:37:48.485966Z",
     "iopub.status.busy": "2025-09-12T18:37:48.485761Z",
     "iopub.status.idle": "2025-09-12T18:43:14.769713Z",
     "shell.execute_reply": "2025-09-12T18:43:14.768937Z"
    },
    "papermill": {
     "duration": 326.293716,
     "end_time": "2025-09-12T18:43:14.775685",
     "exception": false,
     "start_time": "2025-09-12T18:37:48.481969",
     "status": "completed"
    },
    "tags": []
   },
   "outputs": [
    {
     "name": "stderr",
     "output_type": "stream",
     "text": [
      "/usr/local/lib/python3.11/dist-packages/xgboost/sklearn.py:889: UserWarning: `early_stopping_rounds` in `fit` method is deprecated for better compatibility with scikit-learn, use `early_stopping_rounds` in constructor or`set_params` instead.\n",
      "  warnings.warn(\n"
     ]
    },
    {
     "name": "stdout",
     "output_type": "stream",
     "text": [
      "nuevo mejor AUC 0.79359 con {'subsample': 0.9, 'reg_lambda': 5.0, 'min_child_weight': 2, 'max_depth': 6, 'learning_rate': 0.03, 'colsample_bytree': 0.8}\n"
     ]
    },
    {
     "name": "stderr",
     "output_type": "stream",
     "text": [
      "/usr/local/lib/python3.11/dist-packages/xgboost/sklearn.py:889: UserWarning: `early_stopping_rounds` in `fit` method is deprecated for better compatibility with scikit-learn, use `early_stopping_rounds` in constructor or`set_params` instead.\n",
      "  warnings.warn(\n"
     ]
    },
    {
     "name": "stdout",
     "output_type": "stream",
     "text": [
      "nuevo mejor AUC 0.80582 con {'subsample': 0.8, 'reg_lambda': 1.0, 'min_child_weight': 1, 'max_depth': 8, 'learning_rate': 0.03, 'colsample_bytree': 0.9}\n"
     ]
    },
    {
     "name": "stderr",
     "output_type": "stream",
     "text": [
      "/usr/local/lib/python3.11/dist-packages/xgboost/sklearn.py:889: UserWarning: `early_stopping_rounds` in `fit` method is deprecated for better compatibility with scikit-learn, use `early_stopping_rounds` in constructor or`set_params` instead.\n",
      "  warnings.warn(\n"
     ]
    },
    {
     "name": "stdout",
     "output_type": "stream",
     "text": [
      "nuevo mejor AUC 0.80871 con {'subsample': 0.8, 'reg_lambda': 2.0, 'min_child_weight': 1, 'max_depth': 8, 'learning_rate': 0.03, 'colsample_bytree': 0.8}\n"
     ]
    },
    {
     "name": "stderr",
     "output_type": "stream",
     "text": [
      "/usr/local/lib/python3.11/dist-packages/xgboost/sklearn.py:889: UserWarning: `early_stopping_rounds` in `fit` method is deprecated for better compatibility with scikit-learn, use `early_stopping_rounds` in constructor or`set_params` instead.\n",
      "  warnings.warn(\n",
      "/usr/local/lib/python3.11/dist-packages/xgboost/sklearn.py:889: UserWarning: `early_stopping_rounds` in `fit` method is deprecated for better compatibility with scikit-learn, use `early_stopping_rounds` in constructor or`set_params` instead.\n",
      "  warnings.warn(\n",
      "/usr/local/lib/python3.11/dist-packages/xgboost/sklearn.py:889: UserWarning: `early_stopping_rounds` in `fit` method is deprecated for better compatibility with scikit-learn, use `early_stopping_rounds` in constructor or`set_params` instead.\n",
      "  warnings.warn(\n",
      "/usr/local/lib/python3.11/dist-packages/xgboost/sklearn.py:889: UserWarning: `early_stopping_rounds` in `fit` method is deprecated for better compatibility with scikit-learn, use `early_stopping_rounds` in constructor or`set_params` instead.\n",
      "  warnings.warn(\n",
      "/usr/local/lib/python3.11/dist-packages/xgboost/sklearn.py:889: UserWarning: `early_stopping_rounds` in `fit` method is deprecated for better compatibility with scikit-learn, use `early_stopping_rounds` in constructor or`set_params` instead.\n",
      "  warnings.warn(\n",
      "/usr/local/lib/python3.11/dist-packages/xgboost/sklearn.py:889: UserWarning: `early_stopping_rounds` in `fit` method is deprecated for better compatibility with scikit-learn, use `early_stopping_rounds` in constructor or`set_params` instead.\n",
      "  warnings.warn(\n"
     ]
    },
    {
     "name": "stdout",
     "output_type": "stream",
     "text": [
      "nuevo mejor AUC 0.80878 con {'subsample': 0.8, 'reg_lambda': 2.0, 'min_child_weight': 1, 'max_depth': 6, 'learning_rate': 0.07, 'colsample_bytree': 0.8}\n"
     ]
    },
    {
     "name": "stderr",
     "output_type": "stream",
     "text": [
      "/usr/local/lib/python3.11/dist-packages/xgboost/sklearn.py:889: UserWarning: `early_stopping_rounds` in `fit` method is deprecated for better compatibility with scikit-learn, use `early_stopping_rounds` in constructor or`set_params` instead.\n",
      "  warnings.warn(\n",
      "/usr/local/lib/python3.11/dist-packages/xgboost/sklearn.py:889: UserWarning: `early_stopping_rounds` in `fit` method is deprecated for better compatibility with scikit-learn, use `early_stopping_rounds` in constructor or`set_params` instead.\n",
      "  warnings.warn(\n",
      "/usr/local/lib/python3.11/dist-packages/xgboost/sklearn.py:889: UserWarning: `early_stopping_rounds` in `fit` method is deprecated for better compatibility with scikit-learn, use `early_stopping_rounds` in constructor or`set_params` instead.\n",
      "  warnings.warn(\n",
      "/usr/local/lib/python3.11/dist-packages/xgboost/sklearn.py:889: UserWarning: `early_stopping_rounds` in `fit` method is deprecated for better compatibility with scikit-learn, use `early_stopping_rounds` in constructor or`set_params` instead.\n",
      "  warnings.warn(\n",
      "/usr/local/lib/python3.11/dist-packages/xgboost/sklearn.py:889: UserWarning: `early_stopping_rounds` in `fit` method is deprecated for better compatibility with scikit-learn, use `early_stopping_rounds` in constructor or`set_params` instead.\n",
      "  warnings.warn(\n"
     ]
    },
    {
     "name": "stdout",
     "output_type": "stream",
     "text": [
      "nuevo mejor AUC 0.81047 con {'subsample': 0.9, 'reg_lambda': 2.0, 'min_child_weight': 4, 'max_depth': 6, 'learning_rate': 0.07, 'colsample_bytree': 0.7}\n"
     ]
    },
    {
     "name": "stderr",
     "output_type": "stream",
     "text": [
      "/usr/local/lib/python3.11/dist-packages/xgboost/sklearn.py:889: UserWarning: `early_stopping_rounds` in `fit` method is deprecated for better compatibility with scikit-learn, use `early_stopping_rounds` in constructor or`set_params` instead.\n",
      "  warnings.warn(\n",
      "/usr/local/lib/python3.11/dist-packages/xgboost/sklearn.py:889: UserWarning: `early_stopping_rounds` in `fit` method is deprecated for better compatibility with scikit-learn, use `early_stopping_rounds` in constructor or`set_params` instead.\n",
      "  warnings.warn(\n",
      "/usr/local/lib/python3.11/dist-packages/xgboost/sklearn.py:889: UserWarning: `early_stopping_rounds` in `fit` method is deprecated for better compatibility with scikit-learn, use `early_stopping_rounds` in constructor or`set_params` instead.\n",
      "  warnings.warn(\n",
      "/usr/local/lib/python3.11/dist-packages/xgboost/sklearn.py:889: UserWarning: `early_stopping_rounds` in `fit` method is deprecated for better compatibility with scikit-learn, use `early_stopping_rounds` in constructor or`set_params` instead.\n",
      "  warnings.warn(\n",
      "/usr/local/lib/python3.11/dist-packages/xgboost/sklearn.py:889: UserWarning: `early_stopping_rounds` in `fit` method is deprecated for better compatibility with scikit-learn, use `early_stopping_rounds` in constructor or`set_params` instead.\n",
      "  warnings.warn(\n",
      "/usr/local/lib/python3.11/dist-packages/xgboost/sklearn.py:889: UserWarning: `early_stopping_rounds` in `fit` method is deprecated for better compatibility with scikit-learn, use `early_stopping_rounds` in constructor or`set_params` instead.\n",
      "  warnings.warn(\n",
      "/usr/local/lib/python3.11/dist-packages/xgboost/sklearn.py:889: UserWarning: `early_stopping_rounds` in `fit` method is deprecated for better compatibility with scikit-learn, use `early_stopping_rounds` in constructor or`set_params` instead.\n",
      "  warnings.warn(\n",
      "/usr/local/lib/python3.11/dist-packages/xgboost/sklearn.py:889: UserWarning: `early_stopping_rounds` in `fit` method is deprecated for better compatibility with scikit-learn, use `early_stopping_rounds` in constructor or`set_params` instead.\n",
      "  warnings.warn(\n",
      "/usr/local/lib/python3.11/dist-packages/xgboost/sklearn.py:889: UserWarning: `early_stopping_rounds` in `fit` method is deprecated for better compatibility with scikit-learn, use `early_stopping_rounds` in constructor or`set_params` instead.\n",
      "  warnings.warn(\n",
      "/usr/local/lib/python3.11/dist-packages/xgboost/sklearn.py:889: UserWarning: `early_stopping_rounds` in `fit` method is deprecated for better compatibility with scikit-learn, use `early_stopping_rounds` in constructor or`set_params` instead.\n",
      "  warnings.warn(\n",
      "/usr/local/lib/python3.11/dist-packages/xgboost/sklearn.py:889: UserWarning: `early_stopping_rounds` in `fit` method is deprecated for better compatibility with scikit-learn, use `early_stopping_rounds` in constructor or`set_params` instead.\n",
      "  warnings.warn(\n",
      "/usr/local/lib/python3.11/dist-packages/xgboost/sklearn.py:889: UserWarning: `early_stopping_rounds` in `fit` method is deprecated for better compatibility with scikit-learn, use `early_stopping_rounds` in constructor or`set_params` instead.\n",
      "  warnings.warn(\n",
      "/usr/local/lib/python3.11/dist-packages/xgboost/sklearn.py:889: UserWarning: `early_stopping_rounds` in `fit` method is deprecated for better compatibility with scikit-learn, use `early_stopping_rounds` in constructor or`set_params` instead.\n",
      "  warnings.warn(\n"
     ]
    },
    {
     "name": "stdout",
     "output_type": "stream",
     "text": [
      "nuevo mejor AUC 0.81149 con {'subsample': 0.9, 'reg_lambda': 5.0, 'min_child_weight': 8, 'max_depth': 8, 'learning_rate': 0.07, 'colsample_bytree': 0.7}\n"
     ]
    },
    {
     "name": "stderr",
     "output_type": "stream",
     "text": [
      "/usr/local/lib/python3.11/dist-packages/xgboost/sklearn.py:889: UserWarning: `early_stopping_rounds` in `fit` method is deprecated for better compatibility with scikit-learn, use `early_stopping_rounds` in constructor or`set_params` instead.\n",
      "  warnings.warn(\n",
      "/usr/local/lib/python3.11/dist-packages/xgboost/sklearn.py:889: UserWarning: `early_stopping_rounds` in `fit` method is deprecated for better compatibility with scikit-learn, use `early_stopping_rounds` in constructor or`set_params` instead.\n",
      "  warnings.warn(\n",
      "/usr/local/lib/python3.11/dist-packages/xgboost/sklearn.py:889: UserWarning: `early_stopping_rounds` in `fit` method is deprecated for better compatibility with scikit-learn, use `early_stopping_rounds` in constructor or`set_params` instead.\n",
      "  warnings.warn(\n"
     ]
    },
    {
     "name": "stdout",
     "output_type": "stream",
     "text": [
      "BEST AUC: 0.8114873132209013\n",
      "BEST PARAMS: {'max_depth': 8, 'min_child_weight': 8, 'subsample': 0.9, 'colsample_bytree': 0.7, 'reg_lambda': 5.0, 'learning_rate': 0.07}\n"
     ]
    }
   ],
   "source": [
    "\n",
    "#Random Search de hiperparámetros\n",
    "# --------------------------------\n",
    "# - Define un espacio de búsqueda (param_space) con valores posibles.\n",
    "# - Usa ParameterSampler para probar 30 combinaciones al azar.\n",
    "# - Entrena un XGBoost con cada combinación (GPU + early stopping).\n",
    "# - Calcula el AUC en validación temporal.\n",
    "# - Se queda con la mejor combinación encontrada (best_params).\n",
    "\n",
    "from sklearn.model_selection import ParameterSampler\n",
    "import numpy as np\n",
    "\n",
    "param_space = {\n",
    "    \"max_depth\": [6,8,10,12],\n",
    "    \"min_child_weight\": [1,2,4,8],\n",
    "    \"subsample\": [0.7,0.8,0.9],\n",
    "    \"colsample_bytree\": [0.7,0.8,0.9],\n",
    "    \"reg_lambda\": [1.0,2.0,3.0,5.0],\n",
    "    \"learning_rate\": [0.03, 0.05, 0.07],\n",
    "}\n",
    "best_auc = -1\n",
    "best_params = None\n",
    "for g in ParameterSampler(param_space, n_iter=30, random_state=42):\n",
    "    params = base_params.copy()\n",
    "    params.update(g)\n",
    "    try:\n",
    "        model = xgb.XGBClassifier(device=\"cuda\", **params)\n",
    "    except TypeError:\n",
    "        model = xgb.XGBClassifier(tree_method=\"gpu_hist\", predictor=\"gpu_predictor\", gpu_id=0, **params)\n",
    "    model.fit(X_tr, y_tr, eval_set=[(X_va, y_va)], verbose=False, early_stopping_rounds=100)\n",
    "    auc = roc_auc_score(y_va, model.predict_proba(X_va)[:,1])\n",
    "    if auc > best_auc:\n",
    "        best_auc = auc\n",
    "        best_params = params\n",
    "        print(f\"nuevo mejor AUC {auc:.5f} con {g}\")\n",
    "\n",
    "print(\"BEST AUC:\", best_auc)\n",
    "print(\"BEST PARAMS:\", {k:best_params[k] for k in param_space})\n"
   ]
  },
  {
   "cell_type": "code",
   "execution_count": 15,
   "id": "f4a8ef2a",
   "metadata": {
    "execution": {
     "iopub.execute_input": "2025-09-12T18:43:14.785703Z",
     "iopub.status.busy": "2025-09-12T18:43:14.785479Z",
     "iopub.status.idle": "2025-09-12T18:44:17.057829Z",
     "shell.execute_reply": "2025-09-12T18:44:17.057047Z"
    },
    "papermill": {
     "duration": 62.282614,
     "end_time": "2025-09-12T18:44:17.062877",
     "exception": false,
     "start_time": "2025-09-12T18:43:14.780263",
     "status": "completed"
    },
    "tags": []
   },
   "outputs": [
    {
     "name": "stderr",
     "output_type": "stream",
     "text": [
      "/usr/local/lib/python3.11/dist-packages/xgboost/sklearn.py:889: UserWarning: `early_stopping_rounds` in `fit` method is deprecated for better compatibility with scikit-learn, use `early_stopping_rounds` in constructor or`set_params` instead.\n",
      "  warnings.warn(\n"
     ]
    },
    {
     "name": "stdout",
     "output_type": "stream",
     "text": [
      "submission.csv listo\n"
     ]
    }
   ],
   "source": [
    "final_params = best_params if 'best_params' in locals() and best_params is not None else base_params\n",
    "try:\n",
    "    final_model = xgb.XGBClassifier(device=\"cuda\", **final_params)\n",
    "except TypeError:\n",
    "    final_model = xgb.XGBClassifier(tree_method=\"gpu_hist\", predictor=\"gpu_predictor\", gpu_id=0, **final_params)\n",
    "\n",
    "final_model.fit(\n",
    "    X_train_full, y,\n",
    "    eval_set=[(X_va, y_va)],  # o [(X_train_full, y)] si querés entrenar con todo\n",
    "    verbose=False,\n",
    "    early_stopping_rounds=100\n",
    ")\n",
    "\n",
    "test_proba = final_model.predict_proba(X_test_full)[:,1]\n",
    "sub = pd.DataFrame({\"obs_id\": test_data[\"obs_id\"], \"pred_proba\": test_proba})\n",
    "sub.to_csv(\"submission.csv\", index=False)\n",
    "print(\"submission.csv listo\")\n"
   ]
  }
 ],
 "metadata": {
  "kaggle": {
   "accelerator": "nvidiaTeslaT4",
   "dataSources": [
    {
     "datasetId": 8257914,
     "sourceId": 13041015,
     "sourceType": "datasetVersion"
    }
   ],
   "dockerImageVersionId": 31090,
   "isGpuEnabled": true,
   "isInternetEnabled": true,
   "language": "python",
   "sourceType": "notebook"
  },
  "kernelspec": {
   "display_name": "Python 3",
   "language": "python",
   "name": "python3"
  },
  "language_info": {
   "codemirror_mode": {
    "name": "ipython",
    "version": 3
   },
   "file_extension": ".py",
   "mimetype": "text/x-python",
   "name": "python",
   "nbconvert_exporter": "python",
   "pygments_lexer": "ipython3",
   "version": "3.11.13"
  },
  "papermill": {
   "default_parameters": {},
   "duration": 421.037574,
   "end_time": "2025-09-12T18:44:17.885926",
   "environment_variables": {},
   "exception": null,
   "input_path": "__notebook__.ipynb",
   "output_path": "__notebook__.ipynb",
   "parameters": {},
   "start_time": "2025-09-12T18:37:16.848352",
   "version": "2.6.0"
  }
 },
 "nbformat": 4,
 "nbformat_minor": 5
}
